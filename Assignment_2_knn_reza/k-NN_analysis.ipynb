{
 "cells": [
  {
   "cell_type": "markdown",
   "metadata": {},
   "source": [
    "# k-NN analysis\n",
    "**Note: This assignment is not for the BSc cognitive science students (5DV201)**\n",
    "\n",
    "In this assignment, we will investigate how the **k-nearest neighbor-algorithm works**. The purpose is to train a k-NN classifier on two given datasets and investigate how increasing $k$ affects the performance of the classifier, and the relationship between the training error and the test error.\n",
    "\n",
    "You have been given code that you need to extend in order to answer these questions.\n",
    "\n",
    "For each dataset, the questions that you must answer in your report are listed below. You should run the entire procedure twice. Once using a test set of **33%** and once using a test set of **66%**. Describe the results and how they relate to the terms under-/overfitting.\n",
    "\n",
    "1. For the given dataset, what seems to be an optimal k value? Are there more than one? If so, which should you choose?\n",
    "2. What type of learning is this? (Super-/unsupervised or reinforcement learning, multiclass, regression or ranking, et c.)\n",
    "3. Based on your plots, describe the relationship between the training and test error.\n",
    "\n",
    "In addition to this, you should choose two out of the four features in the Iris dataset, and 10 out of the 30 features in the breast cancer dataset to use in your experiments. It does not need to be the two features that makes for the best predictors but it is encouraged for you to find these two. **You should investigate $k$ values up to 30**.\n",
    "\n",
    "It is not necessary that you produce the best classifier possible, but that you experiment with the classifier to understand the concepts. If you are unable to answer the question on finding an optimal value k (i.e., if the classifier never seems to perform well), reason as to why this might be. The same thing applies to the other questions.\n",
    "\n",
    "## Working together\n",
    "\n",
    "The assignment should be solved in **groups of two**. Copying code from other students, the internet, or other sources is not allowed (the provided helper code excluded).\n",
    "\n",
    "## Workshop\n",
    "\n",
    "There will be a **virtual** lab session where we will work on the assignment together.\n",
    "\n",
    "## The datasets\n",
    "\n",
    "You will perform experiments on two datasets; the Iris dataset, and a breast cancer dataset. The datasets differ in the size and the number of features. This can lead to different answers to the questions (i.e., do not expect the k value to be the same for each dataset).\n",
    "\n",
    "### Iris\n",
    "The Iris dataset contains data on three classes of flowers. There are 150 samples, where each sample has 4 features related to the petal and sepal length/width.\n",
    "\n",
    "You can read more about it on [Wikipedia](https://en.wikipedia.org/wiki/Iris_flower_data_set) and [here](http://scikit-learn.org/stable/modules/generated/sklearn.datasets.load_iris.html).\n",
    "\n",
    "### Breast cancer\n",
    "The breast cancer dataset contains data from patient diagnostic situations, where each data point is either a case of cancer or not. There are 569 samples, where each sample has 30 features related to the structure of cell nuclei such as radius, smoothness et c.\n",
    "You can read more about it on [Sklearn](http://scikit-learn.org/stable/modules/generated/sklearn.datasets.load_breast_cancer.html) and [here](https://archive.ics.uci.edu/ml/datasets/Breast+Cancer+Wisconsin+(Diagnostic)).\n",
    "\n",
    "## Getting started\n",
    "To get started follow [these instructions](https://jupyter.org/install) to install Jupyter. Note that Jupyter requires Python 3.\n",
    "Then, proceed as follows:\n",
    "\n",
    "1. Start Jupyter.\n",
    "2. Download this notebook (click the button in the top-right corner)\n",
    "2. Upload the notebook to your Jupyter environment (use *one of the buttons* in the top-right corner of your Jupyter environment).\n",
    "3. Open the notebook.\n",
    "\n",
    "Alternatively, you can use [Google Colab](https://colab.research.google.com) to work on the assignment \"in the cloud\".\n",
    "\n",
    "## Working in the notebook\n",
    "Now, it is time to start working directly in the notebook.\n",
    "Execute the cell below to install all dependencies (you can remove the ``%%capture`` statement for debugging purposes):"
   ]
  },
  {
   "cell_type": "code",
   "execution_count": 3,
   "metadata": {},
   "outputs": [],
   "source": [
    "%%capture\n",
    "!pip install --user -U scikit-learn scipy numpy matplotlib"
   ]
  },
  {
   "cell_type": "markdown",
   "metadata": {},
   "source": [
    "First, we import all dependencies we need for this assignment:"
   ]
  },
  {
   "cell_type": "code",
   "execution_count": null,
   "metadata": {},
   "outputs": [],
   "source": [
    "from sklearn.neighbors import KNeighborsClassifier\n",
    "from sklearn.model_selection import train_test_split\n",
    "from sklearn.datasets import *\n",
    "import matplotlib.pyplot as plt"
   ]
  },
  {
   "cell_type": "markdown",
   "metadata": {},
   "source": [
    "Now, we implement an k-NN training function and **properly document the function signature**:"
   ]
  },
  {
   "cell_type": "code",
   "execution_count": 4,
   "metadata": {},
   "outputs": [],
   "source": [
    "def train_knn(x_train, y_train, k):\n",
    "    \"\"\"\n",
    "    Given training data (input and output), train a k-NN classifier.\n",
    "\n",
    "    Input:    x/y_train - Two arrays of equal length, one with input data and \n",
    "              one with the correct labels. \n",
    "              k - number of neighbors considered when training the classifier.\n",
    "    Returns:  The trained classifier\n",
    "    \"\"\"\n",
    "    knn = KNeighborsClassifier(n_neighbors=k)\n",
    "    knn.fit(x_train, y_train)\n",
    "    return knn"
   ]
  },
  {
   "cell_type": "markdown",
   "metadata": {},
   "source": [
    "We do the same for the evaluation function:"
   ]
  },
  {
   "cell_type": "code",
   "execution_count": null,
   "metadata": {},
   "outputs": [],
   "source": [
    "def evaluate_knn(knn, x_train, y_train, x_test, y_test):\n",
    "    \"\"\"\n",
    "    Given a trained classifier, its training data, and test data, calculate\n",
    "    the accuracy on the training and test sets.\n",
    "    \n",
    "    Input:    knn - A trained k-nn classifier\n",
    "              x/y_train - Training data\n",
    "              x/y_test  - Test data\n",
    "    \n",
    "    Returns:  A tuple (train_acc, test_acc) with the resulting accuracies,\n",
    "              obtained when using the classifier on the given data.\n",
    "    \"\"\"\n",
    "    train_score = knn.score(x_train, y_train)\n",
    "    test_score = knn.score(x_test, y_test)\n",
    "    return (train_score, test_score)"
   ]
  },
  {
   "cell_type": "markdown",
   "metadata": {},
   "source": [
    "In the next function, we have left an open ``TODO`` for you. You need to choose a number to initiate the pseudo-random number generator."
   ]
  },
  {
   "cell_type": "code",
   "execution_count": null,
   "metadata": {},
   "outputs": [],
   "source": [
    "def load_dataset(name, features, test_size):\n",
    "    \"\"\"\n",
    "    Loads the iris or breast cancer datasets with the given features and \n",
    "    train/test ratio.\n",
    "    \n",
    "    Input:    name - Either \"iris\" or \"breastcancer\"\n",
    "              features - An array with the indicies of the features to load\n",
    "              test_size - How large part of the dataset to be used as test data.\n",
    "                          0.33 would give a test set 33% of the total size.\n",
    "    Returns:  Arrays x_train, x_test, y_train, y_test that correspond to the\n",
    "              training/test sets.\n",
    "    \"\"\"\n",
    "    # Load the dataset\n",
    "    if name == \"iris\":\n",
    "        dataset = load_iris()\n",
    "    elif name == \"breastcancer\":\n",
    "        dataset = load_breast_cancer()\n",
    "    \n",
    "    print('You are using the features:')\n",
    "    for x in features:\n",
    "        print(x,\"-\", dataset.feature_names[x])\n",
    "    \n",
    "    X = dataset.data[:,features]\n",
    "    Y = dataset.target\n",
    "    \n",
    "    # Split the dataset into a training and a test set\n",
    "    #TODO choose a number as a seed (just to initialize the random number \n",
    "    # generator. \n",
    "    return train_test_split(X, Y, test_size=test_size, random_state=...)"
   ]
  },
  {
   "cell_type": "markdown",
   "metadata": {},
   "source": [
    "Now, experiment by adjusting the following lines of code.\n",
    "\n",
    "First, **choose features to train on**:"
   ]
  },
  {
   "cell_type": "code",
   "execution_count": null,
   "metadata": {},
   "outputs": [],
   "source": [
    "features = [...]"
   ]
  },
  {
   "cell_type": "markdown",
   "metadata": {},
   "source": [
    "We set the maximum value of ``k``:"
   ]
  },
  {
   "cell_type": "code",
   "execution_count": null,
   "metadata": {},
   "outputs": [],
   "source": [
    "k_max = 30"
   ]
  },
  {
   "cell_type": "markdown",
   "metadata": {},
   "source": [
    "Load the dataset with a test/training set ratio of 0.33.  \n",
    "**Choose dataset and set test size**:"
   ]
  },
  {
   "cell_type": "code",
   "execution_count": null,
   "metadata": {},
   "outputs": [],
   "source": [
    "x_train, x_test, y_train, y_test = load_dataset(...,features, ...)"
   ]
  },
  {
   "cell_type": "markdown",
   "metadata": {},
   "source": [
    "Let's create some list to save the results in:"
   ]
  },
  {
   "cell_type": "code",
   "execution_count": null,
   "metadata": {},
   "outputs": [],
   "source": [
    "train_scores = []\n",
    "test_scores = []"
   ]
  },
  {
   "cell_type": "markdown",
   "metadata": {},
   "source": [
    "**Train the classifier** with different values for ``k`` and **save the accuracy achieved** on training and test sets:"
   ]
  },
  {
   "cell_type": "code",
   "execution_count": null,
   "metadata": {},
   "outputs": [],
   "source": [
    "# TODO"
   ]
  },
  {
   "cell_type": "markdown",
   "metadata": {},
   "source": [
    "Now, we can plot the results:"
   ]
  },
  {
   "cell_type": "code",
   "execution_count": null,
   "metadata": {},
   "outputs": [],
   "source": [
    " # Construct plot\n",
    "plt.title('KNN results')\n",
    "plt.xlabel('Number of Neighbors K')\n",
    "plt.ylabel('Accuracy')\n",
    "\n",
    "# Create x-axis\n",
    "xaxis = [x for x in range(k_max)]\n",
    "\n",
    "# Plot the test and training scores with labels\n",
    "plt.plot(xaxis, train_scores, label='Training score')\n",
    "plt.plot(xaxis, test_scores, label='Test score')\n",
    "\n",
    "# Show the figure\n",
    "plt.legend()\n",
    "plt.show()"
   ]
  },
  {
   "cell_type": "markdown",
   "metadata": {},
   "source": [
    "## Example plot\n",
    "\n",
    "You will produce something like this as a basis for your analysis:\n",
    "\n",
    "![Example plot](https://raw.githubusercontent.com/TimKam/knn-assignment/master/example_plot.png)"
   ]
  },
  {
   "cell_type": "markdown",
   "metadata": {},
   "source": [
    "## What to hand in\n",
    "\n",
    "Your report should contain a title page with the names and user names (``@cs``) of all group members, course name, course code, and a fancy title for your assignment. This report is not a full fledge report (i.e., you do not need to write long-winding introductions, or follow the general report structure), but you should clearly answer the assignment questions and present your results in a structured way.\n",
    "\n",
    "Upload your report to **Labres** as a **PDF**, and **all code** used to produce your results (i.e., your adjusted copy of this notebook) as a ZIP file."
   ]
  }
 ],
 "metadata": {
  "kernelspec": {
   "display_name": "Python 3",
   "language": "python",
   "name": "python3"
  },
  "language_info": {
   "codemirror_mode": {
    "name": "ipython",
    "version": 3
   },
   "file_extension": ".py",
   "mimetype": "text/x-python",
   "name": "python",
   "nbconvert_exporter": "python",
   "pygments_lexer": "ipython3",
   "version": "3.7.7"
  }
 },
 "nbformat": 4,
 "nbformat_minor": 2
}
